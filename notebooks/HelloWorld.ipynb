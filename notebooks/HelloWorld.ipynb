{
 "cells": [
  {
   "cell_type": "markdown",
   "id": "15c3f6cd-8cb2-4b23-9956-514fa8aaf4a6",
   "metadata": {},
   "source": [
    "# first test\n",
    "\n"
   ]
  },
  {
   "cell_type": "code",
   "execution_count": null,
   "id": "3bed6f8e",
   "metadata": {},
   "outputs": [],
   "source": [
    "!git clone https://github.com/Kampaay/pyexplore.git"
   ]
  },
  {
   "cell_type": "code",
   "execution_count": null,
   "id": "e18d5ae0",
   "metadata": {},
   "outputs": [],
   "source": [
    "%pip install -q condacolab\n",
    "import condacolab\n",
    "condacolab.install()"
   ]
  },
  {
   "cell_type": "code",
   "execution_count": null,
   "id": "34436c31",
   "metadata": {},
   "outputs": [],
   "source": [
    "import condacolab\n",
    "condacolab.check()"
   ]
  },
  {
   "cell_type": "code",
   "execution_count": null,
   "id": "130a419d",
   "metadata": {},
   "outputs": [],
   "source": [
    "!conda env update --file environment.yml --prune -p ./env"
   ]
  },
  {
   "cell_type": "code",
   "execution_count": 4,
   "id": "fa3053cb-1985-411c-9216-8495429732b0",
   "metadata": {},
   "outputs": [
    {
     "name": "stdout",
     "output_type": "stream",
     "text": [
      "following will be from dotenv!\n",
      "test hello world\n"
     ]
    }
   ],
   "source": [
    "from dotenv import load_dotenv\n",
    "import os\n",
    "load_dotenv('.env')\n",
    "print(\"following will be from dotenv:\")\n",
    "print(os.getenv(\"TEST\"))\n"
   ]
  },
  {
   "cell_type": "markdown",
   "id": "2b241738",
   "metadata": {},
   "source": []
  }
 ],
 "metadata": {
  "kernelspec": {
   "display_name": "Python 3 (ipykernel)",
   "language": "python",
   "name": "python3"
  },
  "language_info": {
   "codemirror_mode": {
    "name": "ipython",
    "version": 3
   },
   "file_extension": ".py",
   "mimetype": "text/x-python",
   "name": "python",
   "nbconvert_exporter": "python",
   "pygments_lexer": "ipython3",
   "version": "3.12.4"
  }
 },
 "nbformat": 4,
 "nbformat_minor": 5
}
