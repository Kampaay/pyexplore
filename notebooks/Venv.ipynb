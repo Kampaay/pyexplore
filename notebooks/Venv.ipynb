{
 "cells": [
  {
   "cell_type": "markdown",
   "id": "15c3f6cd-8cb2-4b23-9956-514fa8aaf4a6",
   "metadata": {},
   "source": [
    "# first test\n",
    "\n"
   ]
  },
  {
   "cell_type": "code",
   "execution_count": null,
   "id": "3bed6f8e",
   "metadata": {},
   "outputs": [],
   "source": [
    "# TO BE EXECUTED IN GOOGLE COLAB ONLY! Do not execute this in your local machine.\n",
    "# create virtual environment\n",
    "!python3 -m venv .venv\n",
    "\n",
    "# activate virtual environment\n",
    "!source .venv/bin/activate\n",
    "\n",
    "# install libraries\n",
    "!pip install -r pyexplore/requirements.txt\n",
    "\n",
    "# freeze libraries versions\n",
    "# !pip freeze > requirements.txt\n"
   ]
  },
  {
   "cell_type": "markdown",
   "id": "2b241738",
   "metadata": {},
   "source": []
  }
 ],
 "metadata": {
  "kernelspec": {
   "display_name": "Python 3 (ipykernel)",
   "language": "python",
   "name": "python3"
  },
  "language_info": {
   "codemirror_mode": {
    "name": "ipython",
    "version": 3
   },
   "file_extension": ".py",
   "mimetype": "text/x-python",
   "name": "python",
   "nbconvert_exporter": "python",
   "pygments_lexer": "ipython3",
   "version": "3.12.4"
  }
 },
 "nbformat": 4,
 "nbformat_minor": 5
}
